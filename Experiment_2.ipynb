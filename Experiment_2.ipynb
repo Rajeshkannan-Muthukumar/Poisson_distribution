{
 "cells": [
  {
   "cell_type": "code",
   "execution_count": 10,
   "id": "1fd22031",
   "metadata": {},
   "outputs": [],
   "source": [
    "import numpy as np\n",
    "import math\n",
    "import scipy.stats "
   ]
  },
  {
   "cell_type": "code",
   "execution_count": 44,
   "id": "976be87c",
   "metadata": {
    "scrolled": false
   },
   "outputs": [
    {
     "ename": "KeyboardInterrupt",
     "evalue": "Interrupted by user",
     "output_type": "error",
     "traceback": [
      "\u001b[1;31m---------------------------------------------------------------------------\u001b[0m",
      "\u001b[1;31mKeyboardInterrupt\u001b[0m                         Traceback (most recent call last)",
      "\u001b[1;32m<ipython-input-44-3a16b01bfd64>\u001b[0m in \u001b[0;36m<module>\u001b[1;34m\u001b[0m\n\u001b[1;32m----> 1\u001b[1;33m \u001b[0mL\u001b[0m\u001b[1;33m=\u001b[0m\u001b[1;33m[\u001b[0m\u001b[0mint\u001b[0m\u001b[1;33m(\u001b[0m\u001b[0mi\u001b[0m\u001b[1;33m)\u001b[0m \u001b[1;32mfor\u001b[0m \u001b[0mi\u001b[0m \u001b[1;32min\u001b[0m \u001b[0minput\u001b[0m\u001b[1;33m(\u001b[0m\u001b[1;33m)\u001b[0m\u001b[1;33m.\u001b[0m\u001b[0msplit\u001b[0m\u001b[1;33m(\u001b[0m\u001b[1;33m)\u001b[0m\u001b[1;33m]\u001b[0m\u001b[1;33m\u001b[0m\u001b[1;33m\u001b[0m\u001b[0m\n\u001b[0m",
      "\u001b[1;32m~\\anaconda3\\lib\\site-packages\\ipykernel\\kernelbase.py\u001b[0m in \u001b[0;36mraw_input\u001b[1;34m(self, prompt)\u001b[0m\n\u001b[0;32m    858\u001b[0m                 \u001b[1;34m\"raw_input was called, but this frontend does not support input requests.\"\u001b[0m\u001b[1;33m\u001b[0m\u001b[1;33m\u001b[0m\u001b[0m\n\u001b[0;32m    859\u001b[0m             )\n\u001b[1;32m--> 860\u001b[1;33m         return self._input_request(str(prompt),\n\u001b[0m\u001b[0;32m    861\u001b[0m             \u001b[0mself\u001b[0m\u001b[1;33m.\u001b[0m\u001b[0m_parent_ident\u001b[0m\u001b[1;33m,\u001b[0m\u001b[1;33m\u001b[0m\u001b[1;33m\u001b[0m\u001b[0m\n\u001b[0;32m    862\u001b[0m             \u001b[0mself\u001b[0m\u001b[1;33m.\u001b[0m\u001b[0m_parent_header\u001b[0m\u001b[1;33m,\u001b[0m\u001b[1;33m\u001b[0m\u001b[1;33m\u001b[0m\u001b[0m\n",
      "\u001b[1;32m~\\anaconda3\\lib\\site-packages\\ipykernel\\kernelbase.py\u001b[0m in \u001b[0;36m_input_request\u001b[1;34m(self, prompt, ident, parent, password)\u001b[0m\n\u001b[0;32m    902\u001b[0m             \u001b[1;32mexcept\u001b[0m \u001b[0mKeyboardInterrupt\u001b[0m\u001b[1;33m:\u001b[0m\u001b[1;33m\u001b[0m\u001b[1;33m\u001b[0m\u001b[0m\n\u001b[0;32m    903\u001b[0m                 \u001b[1;31m# re-raise KeyboardInterrupt, to truncate traceback\u001b[0m\u001b[1;33m\u001b[0m\u001b[1;33m\u001b[0m\u001b[1;33m\u001b[0m\u001b[0m\n\u001b[1;32m--> 904\u001b[1;33m                 \u001b[1;32mraise\u001b[0m \u001b[0mKeyboardInterrupt\u001b[0m\u001b[1;33m(\u001b[0m\u001b[1;34m\"Interrupted by user\"\u001b[0m\u001b[1;33m)\u001b[0m \u001b[1;32mfrom\u001b[0m \u001b[1;32mNone\u001b[0m\u001b[1;33m\u001b[0m\u001b[1;33m\u001b[0m\u001b[0m\n\u001b[0m\u001b[0;32m    905\u001b[0m             \u001b[1;32mexcept\u001b[0m \u001b[0mException\u001b[0m \u001b[1;32mas\u001b[0m \u001b[0me\u001b[0m\u001b[1;33m:\u001b[0m\u001b[1;33m\u001b[0m\u001b[1;33m\u001b[0m\u001b[0m\n\u001b[0;32m    906\u001b[0m                 \u001b[0mself\u001b[0m\u001b[1;33m.\u001b[0m\u001b[0mlog\u001b[0m\u001b[1;33m.\u001b[0m\u001b[0mwarning\u001b[0m\u001b[1;33m(\u001b[0m\u001b[1;34m\"Invalid Message:\"\u001b[0m\u001b[1;33m,\u001b[0m \u001b[0mexc_info\u001b[0m\u001b[1;33m=\u001b[0m\u001b[1;32mTrue\u001b[0m\u001b[1;33m)\u001b[0m\u001b[1;33m\u001b[0m\u001b[1;33m\u001b[0m\u001b[0m\n",
      "\u001b[1;31mKeyboardInterrupt\u001b[0m: Interrupted by user"
     ]
    }
   ],
   "source": [
    "L=[int(i) for i in input().split()]"
   ]
  },
  {
   "cell_type": "code",
   "execution_count": 13,
   "id": "06521ad3",
   "metadata": {},
   "outputs": [
    {
     "name": "stdout",
     "output_type": "stream",
     "text": [
      "20\n",
      "7\n"
     ]
    }
   ],
   "source": [
    "N=len(L);\n",
    "print(N)\n",
    "M=max(L)\n",
    "print(M)"
   ]
  },
  {
   "cell_type": "code",
   "execution_count": 14,
   "id": "c6e43719",
   "metadata": {},
   "outputs": [],
   "source": [
    "x=list();frequency_of_x=list()\n",
    "for i in range (M+1):\n",
    "    c = 0\n",
    "    for j in range(N):\n",
    "        if L[j]==i:\n",
    "            c=c+1\n",
    "    frequency_of_x.append(c)\n",
    "    x.append(i)"
   ]
  },
  {
   "cell_type": "code",
   "execution_count": 15,
   "id": "823d5cfc",
   "metadata": {},
   "outputs": [
    {
     "name": "stdout",
     "output_type": "stream",
     "text": [
      "[0, 1, 2, 3, 4, 5, 6, 7]\n",
      "[1, 2, 2, 5, 1, 5, 1, 3]\n"
     ]
    }
   ],
   "source": [
    "print(x)\n",
    "print(frequency_of_x)"
   ]
  },
  {
   "cell_type": "code",
   "execution_count": 16,
   "id": "e7cff246",
   "metadata": {},
   "outputs": [
    {
     "name": "stdout",
     "output_type": "stream",
     "text": [
      "20\n"
     ]
    }
   ],
   "source": [
    "sum_of_frequency=np.sum(frequency_of_x)\n",
    "print(sum_of_frequency)"
   ]
  },
  {
   "cell_type": "code",
   "execution_count": 17,
   "id": "8c899333",
   "metadata": {},
   "outputs": [],
   "source": [
    "prob_of_x=list()\n",
    "for i in range(M+1):\n",
    "    prob_of_x.append(frequency_of_x[i]/sum_of_frequency) \n",
    "mean=np.inner(x,prob_of_x)\n",
    "variance =mean\n",
    "## mean = variance for poisson distribution"
   ]
  },
  {
   "cell_type": "code",
   "execution_count": 18,
   "id": "4e999d7d",
   "metadata": {},
   "outputs": [
    {
     "name": "stdout",
     "output_type": "stream",
     "text": [
      "3.8500000000000005\n",
      "3.8500000000000005\n"
     ]
    }
   ],
   "source": [
    "print(mean)\n",
    "print(variance)"
   ]
  },
  {
   "cell_type": "code",
   "execution_count": 23,
   "id": "8be0fc38",
   "metadata": {},
   "outputs": [
    {
     "name": "stdout",
     "output_type": "stream",
     "text": [
      " X P(X=x) Obs.Fr Exp.Fr xi\n",
      "------------------------\n",
      "0.00 0.00 1.00 0.00 inf\n",
      "1.00 0.08 2.00 1.64 0.08\n",
      "2.00 0.08 2.00 1.64 0.08\n",
      "3.00 0.04 5.00 0.82 21.33\n",
      "4.00 0.01 1.00 0.27 1.93\n",
      "5.00 0.00 5.00 0.07 356.25\n",
      "6.00 0.00 1.00 0.01 71.25\n",
      "7.00 0.00 3.00 0.00 3948.74\n",
      "------------------\n"
     ]
    },
    {
     "name": "stderr",
     "output_type": "stream",
     "text": [
      "<ipython-input-23-caa6048050d2>:7: RuntimeWarning: divide by zero encountered in double_scalars\n",
      "  xi.append((frequency_of_x[x]-E[x])**2/E[x])\n"
     ]
    }
   ],
   "source": [
    "pr=list();E=list();xi=list()\n",
    "print(\" X P(X=x) Obs.Fr Exp.Fr xi\")\n",
    "print(\"------------------------\")\n",
    "for x in range(M+1):\n",
    "    pr.append(math.exp(-mean)*mean*x/math.factorial(x))\n",
    "    E.append(pr[x]*sum_of_frequency)\n",
    "    xi.append((frequency_of_x[x]-E[x])**2/E[x])\n",
    "    print(\"%2.2f %2.2f %4.2f %3.2f %3.2f\"%(x,pr[x],frequency_of_x[x],E[x],xi[x]))\n",
    "print(\"------------------\")"
   ]
  },
  {
   "cell_type": "code",
   "execution_count": 32,
   "id": "ee69598a",
   "metadata": {},
   "outputs": [],
   "source": [
    "import numpy as np\n",
    "import math\n",
    "import scipy.stats\n"
   ]
  },
  {
   "cell_type": "code",
   "execution_count": 33,
   "id": "9d7f34ea",
   "metadata": {},
   "outputs": [
    {
     "name": "stdout",
     "output_type": "stream",
     "text": [
      "5 0 1 4 2 3 7 5 3 5 5 7 7 2 3 3 5 3 6 1\n"
     ]
    }
   ],
   "source": [
    "L=[int(i) for i in input().split()]"
   ]
  },
  {
   "cell_type": "code",
   "execution_count": 34,
   "id": "66fc8ea5",
   "metadata": {},
   "outputs": [],
   "source": [
    "N=len(L);M=max(L)\n",
    "X=list();f=list()"
   ]
  },
  {
   "cell_type": "code",
   "execution_count": 35,
   "id": "dbb959b7",
   "metadata": {},
   "outputs": [],
   "source": [
    "for i in range(M+1):\n",
    "    c=0\n",
    "    for j in range (N):\n",
    "        if L[j]==i:\n",
    "            c=c+1\n",
    "    f.append(c)\n",
    "    X.append(i)\n"
   ]
  },
  {
   "cell_type": "code",
   "execution_count": 36,
   "id": "86a799c7",
   "metadata": {},
   "outputs": [],
   "source": [
    "sf=np.sum(f)\n",
    "p=list()"
   ]
  },
  {
   "cell_type": "code",
   "execution_count": 37,
   "id": "b267527e",
   "metadata": {},
   "outputs": [],
   "source": [
    "for i in range(M+1):\n",
    "    p.append(f[i]/sf)\n",
    "mean=np.inner(X,p)\n",
    "pr=list();E=list();xi=list()"
   ]
  },
  {
   "cell_type": "code",
   "execution_count": 39,
   "id": "bb052f24",
   "metadata": {},
   "outputs": [
    {
     "name": "stdout",
     "output_type": "stream",
     "text": [
      " X P(X=x) Obs.Fr Exp.Fr xi\n",
      "------------------------\n",
      "0.00 0.00 1.00 0.00 inf\n",
      "1.00 0.08 2.00 1.64 0.08\n",
      "2.00 0.08 2.00 1.64 0.08\n",
      "3.00 0.04 5.00 0.82 21.33\n",
      "4.00 0.01 1.00 0.27 1.93\n",
      "5.00 0.00 5.00 0.07 356.25\n",
      "6.00 0.00 1.00 0.01 71.25\n",
      "7.00 0.00 3.00 0.00 3948.74\n",
      "------------------\n"
     ]
    },
    {
     "name": "stderr",
     "output_type": "stream",
     "text": [
      "<ipython-input-39-b7ebcbd49371>:6: RuntimeWarning: divide by zero encountered in double_scalars\n",
      "  xi.append((f[x]-E[x])**2/E[x])\n"
     ]
    }
   ],
   "source": [
    "print(\" X P(X=x) Obs.Fr Exp.Fr xi\")\n",
    "print(\"------------------------\")\n",
    "for x in range(M+1):\n",
    "    pr.append(math.exp(-mean)*mean*x/math.factorial(x))\n",
    "    E.append(pr[x]*sf)\n",
    "    xi.append((f[x]-E[x])**2/E[x])\n",
    "    print(\"%2.2f %2.2f %4.2f %3.2f %3.2f\"%(x,pr[x],f[x],E[x],xi[x]))\n",
    "print(\"------------------\")"
   ]
  },
  {
   "cell_type": "code",
   "execution_count": 40,
   "id": "6306ec39",
   "metadata": {},
   "outputs": [
    {
     "name": "stdout",
     "output_type": "stream",
     "text": [
      "Calculated value of Chi square is  inf\n",
      "Table value of Chi square at 1 level is 18.48\n"
     ]
    }
   ],
   "source": [
    "cal_chi2_sq=np.sum(xi)\n",
    "print(\"Calculated value of Chi square is %4.2f\"%cal_chi2_sq)\n",
    "table_chi2=scipy.stats.chi2.ppf(1-.01,df=M)\n",
    "print(\"Table value of Chi square at 1 level is %4.2f\"%table_chi2)\n"
   ]
  },
  {
   "cell_type": "code",
   "execution_count": 41,
   "id": "83f3ce3a",
   "metadata": {},
   "outputs": [
    {
     "name": "stdout",
     "output_type": "stream",
     "text": [
      "The given data cannot be fitted in poisson distribution at 1% LOS \n"
     ]
    }
   ],
   "source": [
    "if cal_chi2_sq<table_chi2:\n",
    "    print(\"The given data can be fitted in poisson distribution at 1% LOS \")\n",
    "else:\n",
    "     print((\"The given data cannot be fitted in poisson distribution at 1% LOS \"))"
   ]
  },
  {
   "cell_type": "code",
   "execution_count": null,
   "id": "dcc7bdb7",
   "metadata": {},
   "outputs": [],
   "source": [
    "#### new dataset"
   ]
  },
  {
   "cell_type": "code",
   "execution_count": 59,
   "id": "9101869b",
   "metadata": {},
   "outputs": [],
   "source": [
    "import numpy as np\n",
    "import math\n",
    "import scipy.stats\n"
   ]
  },
  {
   "cell_type": "code",
   "execution_count": 60,
   "id": "7b2903c8",
   "metadata": {},
   "outputs": [
    {
     "name": "stdout",
     "output_type": "stream",
     "text": [
      "5 0 1 4 2 3 7 5 3 5 5 7 7 2 3 3 5 3 6 1\n"
     ]
    }
   ],
   "source": [
    "L=[int(i) for i in input().split()]\n"
   ]
  },
  {
   "cell_type": "code",
   "execution_count": 61,
   "id": "8ba32c2a",
   "metadata": {},
   "outputs": [],
   "source": [
    "N=len(L); M=max(L) \n",
    "X=list();f=list()\n",
    "for i in range (M+1):\n",
    "    c = 0\n",
    "    for j in range(N):\n",
    "        if L[j]==i:\n",
    "            c=c+1\n",
    "    f.append(c)\n",
    "    X.append(i)\n",
    "sf=np.sum(f)\n",
    "p=list()\n",
    "for i in range(M+1):\n",
    "    p.append(f[i]/sf) \n",
    "mean=np.inner(X,p)\n",
    "p=list();E=list();xi=list()\n",
    "\n"
   ]
  },
  {
   "cell_type": "code",
   "execution_count": 62,
   "id": "1323f97e",
   "metadata": {},
   "outputs": [
    {
     "name": "stdout",
     "output_type": "stream",
     "text": [
      "X    P(X=x) Obs.Fr Exp.Fr  xi\n",
      "--------------------------\n",
      "0.00 0.021  1.00    0.43  0.78\n",
      "1.00 0.082  2.00    1.64  0.08\n",
      "2.00 0.158  2.00    3.15  0.42\n",
      "3.00 0.202  5.00    4.05  0.22\n",
      "4.00 0.195  1.00    3.90  2.15\n",
      "5.00 0.150  5.00    3.00  1.33\n",
      "6.00 0.096  1.00    1.92  0.44\n",
      "7.00 0.053  3.00    1.06  3.56\n",
      "--------------------------\n"
     ]
    }
   ],
   "source": [
    "print(\"X    P(X=x) Obs.Fr Exp.Fr  xi\")\n",
    "print(\"--------------------------\")\n",
    "for x in range(M+1):\n",
    "    p.append(math.exp(-mean)*mean**x/math.factorial(x))\n",
    "    E.append(p[x]*sf)\n",
    "    xi.append((f[x]-E[x])**2/E[x])\n",
    "    print(\"%2.2f %2.3f  %4.2f    %3.2f  %3.2f\"%(x,p[x],f[x],E[x],xi[x]))\n",
    "print(\"--------------------------\")"
   ]
  },
  {
   "cell_type": "code",
   "execution_count": 63,
   "id": "b626da6f",
   "metadata": {},
   "outputs": [
    {
     "name": "stdout",
     "output_type": "stream",
     "text": [
      "Calculated value of Chi square is 8.99\n",
      "Table value of chi square at 1 level is 18.48\n"
     ]
    }
   ],
   "source": [
    "cal_chi2_sq=np.sum(xi)\n",
    "print(\"Calculated value of Chi square is %4.2f\"%cal_chi2_sq)\n",
    "table_chi2=scipy.stats.chi2.ppf(1-.01,df=M)\n",
    "print(\"Table value of chi square at 1 level is %4.2f\"%table_chi2)"
   ]
  },
  {
   "cell_type": "code",
   "execution_count": null,
   "id": "64ba5ae5",
   "metadata": {},
   "outputs": [],
   "source": []
  }
 ],
 "metadata": {
  "kernelspec": {
   "display_name": "Python 3",
   "language": "python",
   "name": "python3"
  },
  "language_info": {
   "codemirror_mode": {
    "name": "ipython",
    "version": 3
   },
   "file_extension": ".py",
   "mimetype": "text/x-python",
   "name": "python",
   "nbconvert_exporter": "python",
   "pygments_lexer": "ipython3",
   "version": "3.8.8"
  }
 },
 "nbformat": 4,
 "nbformat_minor": 5
}
